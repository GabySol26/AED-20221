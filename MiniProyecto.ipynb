{
  "nbformat": 4,
  "nbformat_minor": 0,
  "metadata": {
    "colab": {
      "name": "MiniProyectoSX31.ipynb",
      "provenance": [],
      "collapsed_sections": [],
      "authorship_tag": "ABX9TyMTz1Lmh6dS795woAGXfF0k"
    },
    "kernelspec": {
      "name": "python3",
      "display_name": "Python 3"
    },
    "language_info": {
      "name": "python"
    }
  },
  "cells": [
    {
      "cell_type": "code",
      "source": [
        "from google.colab import drive\n",
        "drive.mount('/gdrive')#abrir un dispositivo de almacenamiento externo"
      ],
      "metadata": {
        "colab": {
          "base_uri": "https://localhost:8080/"
        },
        "id": "BBNMq4BsB7uj",
        "outputId": "5d23940f-a5c8-41ef-8b55-9db08dd95491"
      },
      "execution_count": null,
      "outputs": [
        {
          "output_type": "stream",
          "name": "stdout",
          "text": [
            "Drive already mounted at /gdrive; to attempt to forcibly remount, call drive.mount(\"/gdrive\", force_remount=True).\n"
          ]
        }
      ]
    },
    {
      "cell_type": "code",
      "source": [
        "#copiar el archivo desde mi drive al entorno de desarrollo(/content)\n",
        "!cp /gdrive/MyDrive/Datasets/flights_.csv /content"
      ],
      "metadata": {
        "id": "qpb5JDtdDBdE"
      },
      "execution_count": null,
      "outputs": []
    },
    {
      "cell_type": "code",
      "source": [
        "!head flights_.csv"
      ],
      "metadata": {
        "colab": {
          "base_uri": "https://localhost:8080/"
        },
        "id": "3jmL6WxeEMnw",
        "outputId": "d2953ed4-0cc8-4bf4-f8ef-9153363ad6f1"
      },
      "execution_count": null,
      "outputs": [
        {
          "output_type": "stream",
          "name": "stdout",
          "text": [
            "2015,1,1,4,\"AS\",98,\"N407AS\",\"ANC\",\"SEA\",5,2354,-11,21,15,205,194,169,1448,404,4,430,408,-22,0,0,\"\",0,0,0,0,0\r\n",
            "2015,1,1,4,\"AA\",2336,\"N3KUAA\",\"LAX\",\"PBI\",10,2,-8,12,14,280,279,263,2330,737,4,750,741,-9,0,0,\"\",0,0,0,0,0\r\n",
            "2015,1,1,4,\"US\",840,\"N171US\",\"SFO\",\"CLT\",20,18,-2,16,34,286,293,266,2296,800,11,806,811,5,0,0,\"\",0,0,0,0,0\r\n",
            "2015,1,1,4,\"AA\",258,\"N3HYAA\",\"LAX\",\"MIA\",20,15,-5,15,30,285,281,258,2342,748,8,805,756,-9,0,0,\"\",0,0,0,0,0\r\n",
            "2015,1,1,4,\"AS\",135,\"N527AS\",\"SEA\",\"ANC\",25,24,-1,11,35,235,215,199,1448,254,5,320,259,-21,0,0,\"\",0,0,0,0,0\r\n",
            "2015,1,1,4,\"DL\",806,\"N3730B\",\"SFO\",\"MSP\",25,20,-5,18,38,217,230,206,1589,604,6,602,610,8,0,0,\"\",0,0,0,0,0\r\n",
            "2015,1,1,4,\"NK\",612,\"N635NK\",\"LAS\",\"MSP\",25,19,-6,11,30,181,170,154,1299,504,5,526,509,-17,0,0,\"\",0,0,0,0,0\r\n",
            "2015,1,1,4,\"US\",2013,\"N584UW\",\"LAX\",\"CLT\",30,44,14,13,57,273,249,228,2125,745,8,803,753,-10,0,0,\"\",0,0,0,0,0\r\n",
            "2015,1,1,4,\"AA\",1112,\"N3LAAA\",\"SFO\",\"DFW\",30,19,-11,17,36,195,193,173,1464,529,3,545,532,-13,0,0,\"\",0,0,0,0,0\r\n",
            "2015,1,1,4,\"DL\",1173,\"N826DN\",\"LAS\",\"ATL\",30,33,3,12,45,221,203,186,1747,651,5,711,656,-15,0,0,\"\",0,0,0,0,0\r\n"
          ]
        }
      ]
    },
    {
      "cell_type": "code",
      "execution_count": null,
      "metadata": {
        "colab": {
          "base_uri": "https://localhost:8080/"
        },
        "id": "Q5MMp73r6hSs",
        "outputId": "e4eacfdf-fc1f-4fb5-9808-4f03d6880ead"
      },
      "outputs": [
        {
          "output_type": "stream",
          "name": "stdout",
          "text": [
            "Overwriting programa.cpp\n"
          ]
        }
      ],
      "source": [
        "%%writefile programa.cpp\n",
        "#include <iostream>\n",
        "#include <string>\n",
        "#include <vector>\n",
        "using namespace std;\n",
        "struct Registro{    \n",
        "    int c[26];\n",
        "    string airline, tailNumber, origAirport, destAirport, cancReason;\t    \n",
        "};\n",
        "int main(){\n",
        "    unsigned t1, t2;\n",
        "    Registro r;\n",
        "    vector<Registro> registros;    \n",
        "    char airline[10], tailNumber[10], origAirport[10], destAirport[10],cancReason[10];\t\n",
        "    t1=clock();\n",
        "    FILE* archivo=fopen(\"flights_.csv\",\"r\");\n",
        "    long c=0;\n",
        "    while(fscanf(archivo,\"%d,%d,%d,%d,%[^,],%d,%[^,],%[^,],%[^,],%d,%d,%d,%d,%d,%d,%d,%d,%d,%d,%d,%d,%d,%d,%d,%d,%[^,],%d,%d,%d,%d,%d\",\n",
        "                 &r.c[0],&r.c[1],&r.c[2],&r.c[3],airline,&r.c[4],\n",
        "                 tailNumber, origAirport, destAirport,&r.c[5],&r.c[6],\n",
        "                 &r.c[7],&r.c[8],&r.c[9],&r.c[10],&r.c[11],&r.c[12],&r.c[13],\n",
        "                 &r.c[14],&r.c[15],&r.c[16],&r.c[17],&r.c[18],&r.c[19],&r.c[20],\n",
        "                 cancReason,&r.c[21],&r.c[22],&r.c[23],&r.c[24],&r.c[25])!=EOF){\n",
        "        ++c;\n",
        "      registros.push_back(r);\n",
        "      r.airline=airline;\n",
        "      r.tailNumber=tailNumber;\n",
        "      r.origAirport=origAirport;\n",
        "      r.destAirport=destAirport;\n",
        "      r.cancReason=cancReason;\n",
        "    }\n",
        "    fclose(archivo);\n",
        "    t2=clock();\n",
        "    double tiempo= (double(t2-t1)/CLOCKS_PER_SEC);\n",
        "    cout<<\"Lectura de filas \"<<c<<endl;\n",
        "    cout<<\"Escritura de filas \"<<registros.size()<<endl;\n",
        "    cout<<\"El tiempo de ejecución es:\"<<tiempo<<endl;\n",
        "\n",
        "}\n",
        "\n"
      ]
    },
    {
      "cell_type": "code",
      "source": [
        "!g++ programa.cpp && ./a.out"
      ],
      "metadata": {
        "colab": {
          "base_uri": "https://localhost:8080/"
        },
        "id": "TJPNTUeQ_c5O",
        "outputId": "f70baadb-8bd0-4363-ee82-936190d0382f"
      },
      "execution_count": null,
      "outputs": [
        {
          "output_type": "stream",
          "name": "stdout",
          "text": [
            "tcmalloc: large alloc 1107296256 bytes == 0x55c1bd43a000 @  0x7f3244047887 0x55c178e97212 0x55c178e970bb 0x55c178e96f16 0x55c178e96866 0x55c178e96649 0x55c178e96286 0x7f32436a1c87 0x55c178e95f9a\n",
            "tcmalloc: large alloc 2214592512 bytes == 0x55c1ff43a000 @  0x7f3244047887 0x55c178e97212 0x55c178e970bb 0x55c178e96f16 0x55c178e96866 0x55c178e96649 0x55c178e96286 0x7f32436a1c87 0x55c178e95f9a\n",
            "Lectura de filas 5714008\n",
            "Escritura de filas 5714008\n",
            "El tiempo de ejecución es:13.6103\n"
          ]
        }
      ]
    },
    {
      "cell_type": "code",
      "source": [
        "#Asignación\n",
        "-Registro como clase\n",
        "-Experimentar la ejecución del algortimo en Vector Propio (github)\n",
        "-Adecuar al vector el algortimo del quicksort y experimentar los tiempos de ejecución\n",
        "-Comparar los tiempos de STL vs propio. \n"
      ],
      "metadata": {
        "id": "l1Du7JYG_e29"
      },
      "execution_count": null,
      "outputs": []
    },
    {
      "cell_type": "markdown",
      "source": [
        "#Version 1"
      ],
      "metadata": {
        "id": "GpJPXH8ugvd4"
      }
    },
    {
      "cell_type": "code",
      "source": [
        "%%writefile programa.cpp\n",
        "#include <iostream>\n",
        "#include <string>\n",
        "#include <vector>\n",
        "using namespace std;\n",
        "class Registro{        \n",
        "    int c[26];\n",
        "    string airline, tailNumber, origAirport, destAirport, cancReason;\t    \n",
        "    friend class Vuelos;    \n",
        "    public:\n",
        "    Registro(){}\n",
        "    string toString(){\n",
        "        string _string;\n",
        "        for(size_t i=0;i<26;++i)\n",
        "            _string+=to_string(c[i])+\" \";\n",
        "        _string+=airline+\" \"+tailNumber+\" \"+origAirport+\" \"+destAirport+\" \"+cancReason;\n",
        "      return _string;\n",
        "    }\n",
        "};    \n",
        "\n",
        "\n",
        "class Vuelos{\n",
        "    vector<Registro> registros;    \n",
        "\n",
        "    public:\n",
        "    Vuelos(){}\n",
        "\n",
        "  void insertar(){\n",
        "        unsigned t1, t2;\n",
        "    Registro r;\n",
        "    \n",
        "    char airline[10], tailNumber[10], origAirport[10], destAirport[10],cancReason[10];\t\n",
        "    t1=clock();\n",
        "    FILE* archivo=fopen(\"flights_.csv\",\"r\");\n",
        "    long c=0;\n",
        "    while(fscanf(archivo,\"%d,%d,%d,%d,%[^,],%d,%[^,],%[^,],%[^,],%d,%d,%d,%d,%d,%d,%d,%d,%d,%d,%d,%d,%d,%d,%d,%d,%[^,],%d,%d,%d,%d,%d\",\n",
        "                 &r.c[0],&r.c[1],&r.c[2],&r.c[3],airline,&r.c[4],\n",
        "                 tailNumber, origAirport, destAirport,&r.c[5],&r.c[6],\n",
        "                 &r.c[7],&r.c[8],&r.c[9],&r.c[10],&r.c[11],&r.c[12],&r.c[13],\n",
        "                 &r.c[14],&r.c[15],&r.c[16],&r.c[17],&r.c[18],&r.c[19],&r.c[20],\n",
        "                 cancReason,&r.c[21],&r.c[22],&r.c[23],&r.c[24],&r.c[25])!=EOF){\n",
        "        ++c;\n",
        "      registros.push_back(r);\n",
        "      r.airline=airline;\n",
        "      r.tailNumber=tailNumber;\n",
        "      r.origAirport=origAirport;\n",
        "      r.destAirport=destAirport;\n",
        "      r.cancReason=cancReason;\n",
        "    }\n",
        "    fclose(archivo);\n",
        "    t2=clock();\n",
        "    double tiempo= (double(t2-t1)/CLOCKS_PER_SEC);\n",
        "    cout<<\"Lectura de filas \"<<c<<endl;\n",
        "    cout<<\"Escritura de filas \"<<registros.size()<<endl;\n",
        "    cout<<\"El tiempo de ejecución es:\"<<tiempo<<endl;\n",
        "  }  \n",
        "  string imprimir(long i){\n",
        "      return registros[i].toString();\n",
        "  }\n",
        "\n",
        "\n",
        "};\n",
        "\n",
        "\n",
        "int main(){\n",
        "  Vuelos v;\n",
        "  v.insertar();  \n",
        "  for(size_t i=0;i<10;++i)\n",
        "    cout<<v.imprimir(i)<<endl;\n",
        "\n",
        "}\n",
        "\n"
      ],
      "metadata": {
        "colab": {
          "base_uri": "https://localhost:8080/"
        },
        "id": "MG8VbPR2gwkF",
        "outputId": "37a4201c-55e1-47a7-f3fb-73bb83c6d511"
      },
      "execution_count": null,
      "outputs": [
        {
          "output_type": "stream",
          "name": "stdout",
          "text": [
            "Overwriting programa.cpp\n"
          ]
        }
      ]
    },
    {
      "cell_type": "code",
      "source": [
        "!g++ programa.cpp && ./a.out"
      ],
      "metadata": {
        "colab": {
          "base_uri": "https://localhost:8080/"
        },
        "id": "PGup9AyohNov",
        "outputId": "e1b29d78-0767-4bbc-cbcf-40cc2cbd884a"
      },
      "execution_count": null,
      "outputs": [
        {
          "output_type": "stream",
          "name": "stdout",
          "text": [
            "tcmalloc: large alloc 1107296256 bytes == 0x5589f755e000 @  0x7f17fc5d6887 0x5589b3e5d79e 0x5589b3e5d50f 0x5589b3e5d30e 0x5589b3e5cc02 0x5589b3e5c935 0x5589b3e5c30a 0x5589b3e5bafa 0x7f17fbc30c87 0x5589b3e5b9ea\n",
            "tcmalloc: large alloc 2214592512 bytes == 0x558a3955e000 @  0x7f17fc5d6887 0x5589b3e5d79e 0x5589b3e5d50f 0x5589b3e5d30e 0x5589b3e5cc02 0x5589b3e5c935 0x5589b3e5c30a 0x5589b3e5bafa 0x7f17fbc30c87 0x5589b3e5b9ea\n",
            "Lectura de filas 5714008\n",
            "Escritura de filas 5714008\n",
            "El tiempo de ejecución es:16.9392\n",
            "2015 1 1 4 98 5 2354 -11 21 15 205 194 169 1448 404 4 430 408 -22 0 0 0 0 0 0 0     \n",
            "2015 1 1 4 2336 10 2 -8 12 14 280 279 263 2330 737 4 750 741 -9 0 0 0 0 0 0 0 \"AS\" \"N407AS\" \"ANC\" \"SEA\" \"\"\n",
            "2015 1 1 4 840 20 18 -2 16 34 286 293 266 2296 800 11 806 811 5 0 0 0 0 0 0 0 \"AA\" \"N3KUAA\" \"LAX\" \"PBI\" \"\"\n",
            "2015 1 1 4 258 20 15 -5 15 30 285 281 258 2342 748 8 805 756 -9 0 0 0 0 0 0 0 \"US\" \"N171US\" \"SFO\" \"CLT\" \"\"\n",
            "2015 1 1 4 135 25 24 -1 11 35 235 215 199 1448 254 5 320 259 -21 0 0 0 0 0 0 0 \"AA\" \"N3HYAA\" \"LAX\" \"MIA\" \"\"\n",
            "2015 1 1 4 806 25 20 -5 18 38 217 230 206 1589 604 6 602 610 8 0 0 0 0 0 0 0 \"AS\" \"N527AS\" \"SEA\" \"ANC\" \"\"\n",
            "2015 1 1 4 612 25 19 -6 11 30 181 170 154 1299 504 5 526 509 -17 0 0 0 0 0 0 0 \"DL\" \"N3730B\" \"SFO\" \"MSP\" \"\"\n",
            "2015 1 1 4 2013 30 44 14 13 57 273 249 228 2125 745 8 803 753 -10 0 0 0 0 0 0 0 \"NK\" \"N635NK\" \"LAS\" \"MSP\" \"\"\n",
            "2015 1 1 4 1112 30 19 -11 17 36 195 193 173 1464 529 3 545 532 -13 0 0 0 0 0 0 0 \"US\" \"N584UW\" \"LAX\" \"CLT\" \"\"\n",
            "2015 1 1 4 1173 30 33 3 12 45 221 203 186 1747 651 5 711 656 -15 0 0 0 0 0 0 0 \"AA\" \"N3LAAA\" \"SFO\" \"DFW\" \"\"\n"
          ]
        }
      ]
    },
    {
      "cell_type": "markdown",
      "source": [
        "#Version 3-Propio vector"
      ],
      "metadata": {
        "id": "i6CTEmRBknT9"
      }
    },
    {
      "cell_type": "code",
      "source": [
        "%%writefile mivector.hpp\n",
        "#ifndef __MIVECTOR_H__\n",
        "#define __MIVECTOR_H__\n",
        "\n",
        "template <typename T>\n",
        "class MiVector {\n",
        "    T* elems;\n",
        "    int cap;\n",
        "    int numElems;\n",
        "public:\n",
        "\n",
        "    class iterator {\n",
        "        int i;\n",
        "        T* elems;\n",
        "    public:\n",
        "        iterator(int i=0, T* elems=nullptr)\n",
        "            : i(i), elems(elems) {}\n",
        "        void operator ++ () {\n",
        "            i++;\n",
        "        }\n",
        "        T operator * () {\n",
        "            return elems[i];\n",
        "        }\n",
        "        bool operator != (iterator b) {\n",
        "            return this->i != b.i;\n",
        "        }\n",
        "    };\n",
        "\n",
        "    iterator begin() {\n",
        "        return iterator(0, elems);\n",
        "    }\n",
        "    iterator end() {\n",
        "        return iterator(numElems, nullptr);\n",
        "    }\n",
        "\n",
        "    MiVector(int cap=5800000)\n",
        "        : elems(new T[cap]), cap(cap),\n",
        "          numElems(0) {}\n",
        "    ~MiVector() {\n",
        "        delete[] elems;\n",
        "    }\n",
        "    void push_back(T e){\n",
        "        elems[numElems++]=e;\n",
        "    }\n",
        "    long size(){return numElems;}\n",
        "    T operator[] (int i) const {\n",
        "        return elems[i];\n",
        "    }\n",
        "    T& operator[] (int i) {\n",
        "        return elems[i];\n",
        "    }\n",
        "\n",
        "void Merge(T *A1, T *A2, T *A, size_t n) {\n",
        "\tsize_t i = 0, j = 0, k = 0;\n",
        "\tsize_t mitad = n / 2;\n",
        "\twhile (i < mitad && j < n - mitad) {\n",
        "\t\tif (A1[i] < A2[j]) {\n",
        "\t\t\tA[k] = A1[i];\n",
        "\t\t\ti++;k++;\n",
        "\t\t}\n",
        "\t\telse {\n",
        "\t\t\tA[k] = A2[j];\n",
        "\t\t\tj++;k++;\n",
        "\t\t}\n",
        "\t}\n",
        "\twhile (i < mitad) {\n",
        "\t\tA[k] = A1[i];\n",
        "\t\ti++;k++;\n",
        "\t}\n",
        "\twhile (j < n - mitad) {\n",
        "\t\tA[k] = A2[j];\n",
        "\t\tj++;k++;\n",
        "\t}\n",
        "}\n",
        "\n",
        "\n",
        "void mergeSort(T *A, size_t n) {\n",
        "\tif (n > 1) {\n",
        "\t\tsize_t mitad = n / 2;\n",
        "\t\tT *A1 = new int[mitad];\n",
        "\t\tT *A2 = new int[n-mitad];\n",
        "\n",
        "\t\tfor (int i = 0;i < mitad;i++) {\n",
        "\t\t\tA1[i] = A[i];\n",
        "\t\t}\n",
        "\t\tfor (int i = mitad;i < n;i++) {\n",
        "\t\t\tA2[i-mitad] = A[i];\n",
        "\t\t}\n",
        "\t\tmergeSort(A1, mitad);\n",
        "\t\tmergeSort(A2, n - mitad);\n",
        "\t\tMerge(A1, A2, A, n);\n",
        "\t}\n",
        "}\n",
        "\n",
        "\n",
        "\n",
        "};\n",
        "\n",
        "#endif"
      ],
      "metadata": {
        "colab": {
          "base_uri": "https://localhost:8080/"
        },
        "id": "jwMaDM9jktLc",
        "outputId": "441fb74a-238b-4912-8d32-61dba09c914a"
      },
      "execution_count": null,
      "outputs": [
        {
          "output_type": "stream",
          "name": "stdout",
          "text": [
            "Overwriting mivector.hpp\n"
          ]
        }
      ]
    },
    {
      "cell_type": "code",
      "source": [
        "%%writefile programa.cpp\n",
        "#include <iostream>\n",
        "#include <string>\n",
        "#include \"mivector.hpp\"\n",
        "using namespace std;\n",
        "class Registro{        \n",
        "    int c[26];\n",
        "    string airline, tailNumber, origAirport, destAirport, cancReason;\t    \n",
        "    friend class Vuelos;    \n",
        "    public:\n",
        "    Registro(){}\n",
        "    string toString(){\n",
        "        string _string;\n",
        "        for(size_t i=0;i<26;++i)\n",
        "            _string+=to_string(c[i])+\" \";\n",
        "        _string+=airline+\" \"+tailNumber+\" \"+origAirport+\" \"+destAirport+\" \"+cancReason;\n",
        "      return _string;\n",
        "    }\n",
        "};    \n",
        "\n",
        "\n",
        "class Vuelos{\n",
        "    MiVector<Registro> registros;    \n",
        "\n",
        "    public:\n",
        "    Vuelos(){}\n",
        "\n",
        "  void insertar(){\n",
        "        unsigned t1, t2;\n",
        "    Registro r;\n",
        "    \n",
        "    char airline[10], tailNumber[10], origAirport[10], destAirport[10],cancReason[10];\t\n",
        "    t1=clock();\n",
        "    FILE* archivo=fopen(\"flights_.csv\",\"r\");\n",
        "    long c=0;\n",
        "    while(fscanf(archivo,\"%d,%d,%d,%d,%[^,],%d,%[^,],%[^,],%[^,],%d,%d,%d,%d,%d,%d,%d,%d,%d,%d,%d,%d,%d,%d,%d,%d,%[^,],%d,%d,%d,%d,%d\",\n",
        "                 &r.c[0],&r.c[1],&r.c[2],&r.c[3],airline,&r.c[4],\n",
        "                 tailNumber, origAirport, destAirport,&r.c[5],&r.c[6],\n",
        "                 &r.c[7],&r.c[8],&r.c[9],&r.c[10],&r.c[11],&r.c[12],&r.c[13],\n",
        "                 &r.c[14],&r.c[15],&r.c[16],&r.c[17],&r.c[18],&r.c[19],&r.c[20],\n",
        "                 cancReason,&r.c[21],&r.c[22],&r.c[23],&r.c[24],&r.c[25])!=EOF){\n",
        "        ++c;\n",
        "      registros.push_back(r);\n",
        "      r.airline=airline;\n",
        "      r.tailNumber=tailNumber;\n",
        "      r.origAirport=origAirport;\n",
        "      r.destAirport=destAirport;\n",
        "      r.cancReason=cancReason;\n",
        "    }\n",
        "    fclose(archivo);\n",
        "    t2=clock();\n",
        "    double tiempo= (double(t2-t1)/CLOCKS_PER_SEC);\n",
        "    cout<<\"Lectura de filas \"<<c<<endl;\n",
        "    cout<<\"Escritura de filas \"<<registros.size()<<endl;\n",
        "    cout<<\"El tiempo de ejecución es:\"<<tiempo<<endl;\n",
        "  }  \n",
        "  string imprimir(long i){\n",
        "      return registros[i].toString();\n",
        "  }\n",
        "\n",
        "\n",
        "};\n",
        "\n",
        "\n",
        "int main(){\n",
        "  Vuelos v;\n",
        "  v.insertar();  \n",
        "  for(size_t i=0;i<10;++i)\n",
        "    cout<<v.imprimir(i)<<endl;\n",
        "\n",
        "}\n",
        "\n"
      ],
      "metadata": {
        "colab": {
          "base_uri": "https://localhost:8080/"
        },
        "id": "XOhuXBM4hRDh",
        "outputId": "0ba5e04a-242a-4c7b-a096-0255aa336419"
      },
      "execution_count": null,
      "outputs": [
        {
          "output_type": "stream",
          "name": "stdout",
          "text": [
            "Overwriting programa.cpp\n"
          ]
        }
      ]
    },
    {
      "cell_type": "code",
      "source": [
        "!g++ programa.cpp && ./a.out"
      ],
      "metadata": {
        "colab": {
          "base_uri": "https://localhost:8080/"
        },
        "id": "c58f1G_RlEEP",
        "outputId": "2f366150-7b76-407e-c19e-7be6fc37a5b0"
      },
      "execution_count": null,
      "outputs": [
        {
          "output_type": "stream",
          "name": "stdout",
          "text": [
            "tcmalloc: large alloc 1531207680 bytes == 0x564717464000 @  0x7f4dec939887 0x56471533a9dc 0x56471533a009 0x564715339a7e 0x7f4debf93c87 0x56471533997a\n",
            "Lectura de filas 5714008\n",
            "Escritura de filas 5714008\n",
            "El tiempo de ejecución es:14.4161\n",
            "2015 1 1 4 98 5 2354 -11 21 15 205 194 169 1448 404 4 430 408 -22 0 0 0 0 0 0 0     \n",
            "2015 1 1 4 2336 10 2 -8 12 14 280 279 263 2330 737 4 750 741 -9 0 0 0 0 0 0 0 \"AS\" \"N407AS\" \"ANC\" \"SEA\" \"\"\n",
            "2015 1 1 4 840 20 18 -2 16 34 286 293 266 2296 800 11 806 811 5 0 0 0 0 0 0 0 \"AA\" \"N3KUAA\" \"LAX\" \"PBI\" \"\"\n",
            "2015 1 1 4 258 20 15 -5 15 30 285 281 258 2342 748 8 805 756 -9 0 0 0 0 0 0 0 \"US\" \"N171US\" \"SFO\" \"CLT\" \"\"\n",
            "2015 1 1 4 135 25 24 -1 11 35 235 215 199 1448 254 5 320 259 -21 0 0 0 0 0 0 0 \"AA\" \"N3HYAA\" \"LAX\" \"MIA\" \"\"\n",
            "2015 1 1 4 806 25 20 -5 18 38 217 230 206 1589 604 6 602 610 8 0 0 0 0 0 0 0 \"AS\" \"N527AS\" \"SEA\" \"ANC\" \"\"\n",
            "2015 1 1 4 612 25 19 -6 11 30 181 170 154 1299 504 5 526 509 -17 0 0 0 0 0 0 0 \"DL\" \"N3730B\" \"SFO\" \"MSP\" \"\"\n",
            "2015 1 1 4 2013 30 44 14 13 57 273 249 228 2125 745 8 803 753 -10 0 0 0 0 0 0 0 \"NK\" \"N635NK\" \"LAS\" \"MSP\" \"\"\n",
            "2015 1 1 4 1112 30 19 -11 17 36 195 193 173 1464 529 3 545 532 -13 0 0 0 0 0 0 0 \"US\" \"N584UW\" \"LAX\" \"CLT\" \"\"\n",
            "2015 1 1 4 1173 30 33 3 12 45 221 203 186 1747 651 5 711 656 -15 0 0 0 0 0 0 0 \"AA\" \"N3LAAA\" \"SFO\" \"DFW\" \"\"\n"
          ]
        }
      ]
    },
    {
      "cell_type": "code",
      "source": [
        ""
      ],
      "metadata": {
        "id": "ag7My7oMlHn-"
      },
      "execution_count": null,
      "outputs": []
    }
  ]
}